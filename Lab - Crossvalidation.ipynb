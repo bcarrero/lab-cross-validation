{
 "cells": [
  {
   "cell_type": "markdown",
   "metadata": {},
   "source": [
    "# Lab | Handling Data Imbalance in Classification Models\n",
    "\n",
    "     For this lab and in the next lessons we will build a model on customer churn binary classification problem. You will be using files_for_lab/Customer-Churn.csv file.\n",
    "Scenario\n",
    "\n",
    "You are working as an analyst with this internet service provider. You are provided with this historical data about your company's customers and their churn trends. Your task is to build a machine learning model that will help the company identify customers that are more likely to default/churn and thus prevent losses from such customers.\n",
    "Instructions\n",
    "\n",
    "In this lab, we will first take a look at the degree of imbalance in the data and correct it using the techniques we learned on the class.\n",
    "\n",
    "Here is the list of steps to be followed (building a simple model without balancing the data):\n",
    "\n",
    "    1. Import the required libraries and modules that you would need.\n",
    "    2. Read that data into Python and call the dataframe churnData.\n",
    "    3. Check the datatypes of all the columns in the data. You would see that the column TotalCharges is object type. \n",
    "    4. Convert this column into numeric type using pd.to_numeric function.\n",
    "    5. Check for null values in the dataframe. Replace the null values.\n",
    "    6. Use the following features: tenure, SeniorCitizen, MonthlyCharges and TotalCharges:\n",
    "        Scale the features either by using normalizer or a standard scaler.\n",
    "        Split the data into a training set and a test set.\n",
    "        Fit a logistic regression model on the training data.\n",
    "        Check the accuracy on the test data.\n",
    "\n",
    "Note: So far we have not balanced the data.\n",
    "\n",
    "Managing imbalance in the dataset\n",
    "\n",
    "    Check for the imbalance.\n",
    "    Use the resampling strategies used in class for upsampling and downsampling to create a balance between the two classes.\n",
    "    Each time fit the model and see how the accuracy of the model is.\n"
   ]
  },
  {
   "cell_type": "code",
   "execution_count": 3,
   "metadata": {},
   "outputs": [
    {
     "name": "stdout",
     "output_type": "stream",
     "text": [
      "Using matplotlib backend: Qt5Agg\n"
     ]
    },
    {
     "name": "stderr",
     "output_type": "stream",
     "text": [
      "C:\\Users\\Borja\\Anaconda3\\lib\\site-packages\\statsmodels\\tools\\_testing.py:19: FutureWarning: pandas.util.testing is deprecated. Use the functions in the public API at pandas.testing instead.\n",
      "  import pandas.util.testing as tm\n"
     ]
    }
   ],
   "source": [
    "#general libraries\n",
    "import pandas as pd\n",
    "import numpy as np\n",
    "import getpass\n",
    "\n",
    "#SQL\n",
    "import pymysql\n",
    "from sqlalchemy import create_engine\n",
    "#plot\n",
    "import seaborn as sns\n",
    "import matplotlib.pyplot as plt\n",
    "%matplotlib\n",
    "\n",
    "#from scipy.stats import normaltest\n",
    "from statsmodels.stats.outliers_influence import variance_inflation_factor\n",
    "from sklearn.model_selection import train_test_split\n",
    "from sklearn.metrics import recall_score\n",
    "\n",
    "from sklearn.model_selection import train_test_split\n",
    "from sklearn.linear_model import LogisticRegression\n",
    "from sklearn.neighbors import KNeighborsClassifier\n",
    "from sklearn.ensemble import RandomForestClassifier\n",
    "\n",
    "from sklearn.preprocessing import Normalizer, StandardScaler, PowerTransformer\n",
    "\n",
    "from sklearn.metrics import confusion_matrix, plot_confusion_matrix, cohen_kappa_score, accuracy_score, classification_report\n",
    "\n",
    "from imblearn.over_sampling import SMOTE\n",
    "from imblearn.under_sampling import TomekLinks\n"
   ]
  },
  {
   "cell_type": "code",
   "execution_count": 4,
   "metadata": {},
   "outputs": [
    {
     "name": "stdout",
     "output_type": "stream",
     "text": [
      "<class 'pandas.core.frame.DataFrame'>\n",
      "RangeIndex: 7043 entries, 0 to 7042\n",
      "Data columns (total 16 columns):\n",
      " #   Column            Non-Null Count  Dtype  \n",
      "---  ------            --------------  -----  \n",
      " 0   gender            7043 non-null   object \n",
      " 1   SeniorCitizen     7043 non-null   int64  \n",
      " 2   Partner           7043 non-null   object \n",
      " 3   Dependents        7043 non-null   object \n",
      " 4   tenure            7043 non-null   int64  \n",
      " 5   PhoneService      7043 non-null   object \n",
      " 6   OnlineSecurity    7043 non-null   object \n",
      " 7   OnlineBackup      7043 non-null   object \n",
      " 8   DeviceProtection  7043 non-null   object \n",
      " 9   TechSupport       7043 non-null   object \n",
      " 10  StreamingTV       7043 non-null   object \n",
      " 11  StreamingMovies   7043 non-null   object \n",
      " 12  Contract          7043 non-null   object \n",
      " 13  MonthlyCharges    7043 non-null   float64\n",
      " 14  TotalCharges      7043 non-null   object \n",
      " 15  Churn             7043 non-null   object \n",
      "dtypes: float64(1), int64(2), object(13)\n",
      "memory usage: 880.5+ KB\n"
     ]
    }
   ],
   "source": [
    "churnData = pd.read_csv('files_for_lab/Customer-Churn.csv')\n",
    "\n",
    "churnData.info()"
   ]
  },
  {
   "cell_type": "code",
   "execution_count": 5,
   "metadata": {},
   "outputs": [
    {
     "data": {
      "text/plain": [
       "'Number of nulls: '"
      ]
     },
     "metadata": {},
     "output_type": "display_data"
    },
    {
     "data": {
      "text/plain": [
       "11"
      ]
     },
     "metadata": {},
     "output_type": "display_data"
    },
    {
     "data": {
      "text/plain": [
       "'Total number of rows: '"
      ]
     },
     "metadata": {},
     "output_type": "display_data"
    },
    {
     "data": {
      "text/plain": [
       "7043"
      ]
     },
     "metadata": {},
     "output_type": "display_data"
    }
   ],
   "source": [
    "churnData['TotalCharges'] = pd.to_numeric(churnData['TotalCharges'], errors='coerce')\n",
    "# number of nulls\n",
    "display('Number of nulls: ',churnData['TotalCharges'].isna().sum())\n",
    "\n",
    "display('Total number of rows: ',len(churnData))"
   ]
  },
  {
   "cell_type": "code",
   "execution_count": 6,
   "metadata": {},
   "outputs": [
    {
     "data": {
      "text/plain": [
       "'Total number of rows after dropping nulls: '"
      ]
     },
     "metadata": {},
     "output_type": "display_data"
    },
    {
     "data": {
      "text/plain": [
       "7032"
      ]
     },
     "metadata": {},
     "output_type": "display_data"
    }
   ],
   "source": [
    "# Since 11 is not a significant value, I decided to filter them out.\n",
    "\n",
    "churnData = churnData[churnData['TotalCharges'].notna()]\n",
    "\n",
    "display('Total number of rows after dropping nulls: ',len(churnData))"
   ]
  },
  {
   "cell_type": "code",
   "execution_count": 7,
   "metadata": {},
   "outputs": [
    {
     "data": {
      "text/plain": [
       "'Number of nulls: '"
      ]
     },
     "metadata": {},
     "output_type": "display_data"
    },
    {
     "data": {
      "text/plain": [
       "gender              0\n",
       "SeniorCitizen       0\n",
       "Partner             0\n",
       "Dependents          0\n",
       "tenure              0\n",
       "PhoneService        0\n",
       "OnlineSecurity      0\n",
       "OnlineBackup        0\n",
       "DeviceProtection    0\n",
       "TechSupport         0\n",
       "StreamingTV         0\n",
       "StreamingMovies     0\n",
       "Contract            0\n",
       "MonthlyCharges      0\n",
       "TotalCharges        0\n",
       "Churn               0\n",
       "dtype: int64"
      ]
     },
     "metadata": {},
     "output_type": "display_data"
    }
   ],
   "source": [
    "# number of nulls\n",
    "display('Number of nulls: ',churnData.isna().sum())"
   ]
  },
  {
   "cell_type": "markdown",
   "metadata": {},
   "source": [
    "### No null values anymore."
   ]
  },
  {
   "cell_type": "markdown",
   "metadata": {},
   "source": [
    "6. Use the following features: tenure, SeniorCitizen, MonthlyCharges and TotalCharges:\n",
    "        Scale the features either by using normalizer or a standard scaler.\n",
    "        Split the data into a training set and a test set.\n",
    "        Fit a logistic regression model on the training data.\n",
    "        Check the accuracy on the test data."
   ]
  },
  {
   "cell_type": "code",
   "execution_count": 8,
   "metadata": {},
   "outputs": [
    {
     "data": {
      "text/html": [
       "<div>\n",
       "<style scoped>\n",
       "    .dataframe tbody tr th:only-of-type {\n",
       "        vertical-align: middle;\n",
       "    }\n",
       "\n",
       "    .dataframe tbody tr th {\n",
       "        vertical-align: top;\n",
       "    }\n",
       "\n",
       "    .dataframe thead th {\n",
       "        text-align: right;\n",
       "    }\n",
       "</style>\n",
       "<table border=\"1\" class=\"dataframe\">\n",
       "  <thead>\n",
       "    <tr style=\"text-align: right;\">\n",
       "      <th></th>\n",
       "      <th>tenure</th>\n",
       "      <th>SeniorCitizen</th>\n",
       "      <th>MonthlyCharges</th>\n",
       "      <th>TotalCharges</th>\n",
       "    </tr>\n",
       "  </thead>\n",
       "  <tbody>\n",
       "    <tr>\n",
       "      <th>0</th>\n",
       "      <td>1</td>\n",
       "      <td>0</td>\n",
       "      <td>29.85</td>\n",
       "      <td>29.85</td>\n",
       "    </tr>\n",
       "    <tr>\n",
       "      <th>1</th>\n",
       "      <td>34</td>\n",
       "      <td>0</td>\n",
       "      <td>56.95</td>\n",
       "      <td>1889.50</td>\n",
       "    </tr>\n",
       "    <tr>\n",
       "      <th>2</th>\n",
       "      <td>2</td>\n",
       "      <td>0</td>\n",
       "      <td>53.85</td>\n",
       "      <td>108.15</td>\n",
       "    </tr>\n",
       "    <tr>\n",
       "      <th>3</th>\n",
       "      <td>45</td>\n",
       "      <td>0</td>\n",
       "      <td>42.30</td>\n",
       "      <td>1840.75</td>\n",
       "    </tr>\n",
       "    <tr>\n",
       "      <th>4</th>\n",
       "      <td>2</td>\n",
       "      <td>0</td>\n",
       "      <td>70.70</td>\n",
       "      <td>151.65</td>\n",
       "    </tr>\n",
       "    <tr>\n",
       "      <th>...</th>\n",
       "      <td>...</td>\n",
       "      <td>...</td>\n",
       "      <td>...</td>\n",
       "      <td>...</td>\n",
       "    </tr>\n",
       "    <tr>\n",
       "      <th>7038</th>\n",
       "      <td>24</td>\n",
       "      <td>0</td>\n",
       "      <td>84.80</td>\n",
       "      <td>1990.50</td>\n",
       "    </tr>\n",
       "    <tr>\n",
       "      <th>7039</th>\n",
       "      <td>72</td>\n",
       "      <td>0</td>\n",
       "      <td>103.20</td>\n",
       "      <td>7362.90</td>\n",
       "    </tr>\n",
       "    <tr>\n",
       "      <th>7040</th>\n",
       "      <td>11</td>\n",
       "      <td>0</td>\n",
       "      <td>29.60</td>\n",
       "      <td>346.45</td>\n",
       "    </tr>\n",
       "    <tr>\n",
       "      <th>7041</th>\n",
       "      <td>4</td>\n",
       "      <td>1</td>\n",
       "      <td>74.40</td>\n",
       "      <td>306.60</td>\n",
       "    </tr>\n",
       "    <tr>\n",
       "      <th>7042</th>\n",
       "      <td>66</td>\n",
       "      <td>0</td>\n",
       "      <td>105.65</td>\n",
       "      <td>6844.50</td>\n",
       "    </tr>\n",
       "  </tbody>\n",
       "</table>\n",
       "<p>7032 rows × 4 columns</p>\n",
       "</div>"
      ],
      "text/plain": [
       "      tenure  SeniorCitizen  MonthlyCharges  TotalCharges\n",
       "0          1              0           29.85         29.85\n",
       "1         34              0           56.95       1889.50\n",
       "2          2              0           53.85        108.15\n",
       "3         45              0           42.30       1840.75\n",
       "4          2              0           70.70        151.65\n",
       "...      ...            ...             ...           ...\n",
       "7038      24              0           84.80       1990.50\n",
       "7039      72              0          103.20       7362.90\n",
       "7040      11              0           29.60        346.45\n",
       "7041       4              1           74.40        306.60\n",
       "7042      66              0          105.65       6844.50\n",
       "\n",
       "[7032 rows x 4 columns]"
      ]
     },
     "execution_count": 8,
     "metadata": {},
     "output_type": "execute_result"
    }
   ],
   "source": [
    "independent_features = churnData[['tenure','SeniorCitizen', 'MonthlyCharges','TotalCharges']]\n",
    "\n",
    "independent_features"
   ]
  },
  {
   "cell_type": "code",
   "execution_count": 9,
   "metadata": {},
   "outputs": [
    {
     "data": {
      "text/plain": [
       "tenure              72.00\n",
       "SeniorCitizen        1.00\n",
       "MonthlyCharges     118.75\n",
       "TotalCharges      8684.80\n",
       "dtype: float64"
      ]
     },
     "metadata": {},
     "output_type": "display_data"
    },
    {
     "data": {
      "text/plain": [
       "tenure             1.00\n",
       "SeniorCitizen      0.00\n",
       "MonthlyCharges    18.25\n",
       "TotalCharges      18.80\n",
       "dtype: float64"
      ]
     },
     "metadata": {},
     "output_type": "display_data"
    }
   ],
   "source": [
    "display(independent_features.max())\n",
    "display(independent_features.min())"
   ]
  },
  {
   "cell_type": "code",
   "execution_count": 10,
   "metadata": {},
   "outputs": [
    {
     "data": {
      "text/plain": [
       "['tenure', 'SeniorCitizen', 'MonthlyCharges', 'TotalCharges']"
      ]
     },
     "execution_count": 10,
     "metadata": {},
     "output_type": "execute_result"
    }
   ],
   "source": [
    "# Normalizer acts row-wise while StandardScaler column-wise. \n",
    "# In our case, I think it makes sense to use the normalizer since the ranges within \n",
    "# the columns are so different.\n",
    "\n",
    "list(independent_features.columns)"
   ]
  },
  {
   "cell_type": "code",
   "execution_count": 11,
   "metadata": {},
   "outputs": [
    {
     "data": {
      "text/html": [
       "<div>\n",
       "<style scoped>\n",
       "    .dataframe tbody tr th:only-of-type {\n",
       "        vertical-align: middle;\n",
       "    }\n",
       "\n",
       "    .dataframe tbody tr th {\n",
       "        vertical-align: top;\n",
       "    }\n",
       "\n",
       "    .dataframe thead th {\n",
       "        text-align: right;\n",
       "    }\n",
       "</style>\n",
       "<table border=\"1\" class=\"dataframe\">\n",
       "  <thead>\n",
       "    <tr style=\"text-align: right;\">\n",
       "      <th></th>\n",
       "      <th>tenure</th>\n",
       "      <th>SeniorCitizen</th>\n",
       "      <th>MonthlyCharges</th>\n",
       "      <th>TotalCharges</th>\n",
       "    </tr>\n",
       "  </thead>\n",
       "  <tbody>\n",
       "    <tr>\n",
       "      <th>0</th>\n",
       "      <td>0.023682</td>\n",
       "      <td>0.000000</td>\n",
       "      <td>0.706908</td>\n",
       "      <td>0.706908</td>\n",
       "    </tr>\n",
       "    <tr>\n",
       "      <th>1</th>\n",
       "      <td>0.017983</td>\n",
       "      <td>0.000000</td>\n",
       "      <td>0.030122</td>\n",
       "      <td>0.999384</td>\n",
       "    </tr>\n",
       "    <tr>\n",
       "      <th>2</th>\n",
       "      <td>0.016552</td>\n",
       "      <td>0.000000</td>\n",
       "      <td>0.445662</td>\n",
       "      <td>0.895048</td>\n",
       "    </tr>\n",
       "    <tr>\n",
       "      <th>3</th>\n",
       "      <td>0.024433</td>\n",
       "      <td>0.000000</td>\n",
       "      <td>0.022967</td>\n",
       "      <td>0.999438</td>\n",
       "    </tr>\n",
       "    <tr>\n",
       "      <th>4</th>\n",
       "      <td>0.011952</td>\n",
       "      <td>0.000000</td>\n",
       "      <td>0.422512</td>\n",
       "      <td>0.906279</td>\n",
       "    </tr>\n",
       "    <tr>\n",
       "      <th>...</th>\n",
       "      <td>...</td>\n",
       "      <td>...</td>\n",
       "      <td>...</td>\n",
       "      <td>...</td>\n",
       "    </tr>\n",
       "    <tr>\n",
       "      <th>7027</th>\n",
       "      <td>0.012045</td>\n",
       "      <td>0.000000</td>\n",
       "      <td>0.042561</td>\n",
       "      <td>0.999021</td>\n",
       "    </tr>\n",
       "    <tr>\n",
       "      <th>7028</th>\n",
       "      <td>0.009777</td>\n",
       "      <td>0.000000</td>\n",
       "      <td>0.014014</td>\n",
       "      <td>0.999854</td>\n",
       "    </tr>\n",
       "    <tr>\n",
       "      <th>7029</th>\n",
       "      <td>0.031620</td>\n",
       "      <td>0.000000</td>\n",
       "      <td>0.085085</td>\n",
       "      <td>0.995872</td>\n",
       "    </tr>\n",
       "    <tr>\n",
       "      <th>7030</th>\n",
       "      <td>0.012677</td>\n",
       "      <td>0.003169</td>\n",
       "      <td>0.235798</td>\n",
       "      <td>0.971714</td>\n",
       "    </tr>\n",
       "    <tr>\n",
       "      <th>7031</th>\n",
       "      <td>0.009641</td>\n",
       "      <td>0.000000</td>\n",
       "      <td>0.015433</td>\n",
       "      <td>0.999834</td>\n",
       "    </tr>\n",
       "  </tbody>\n",
       "</table>\n",
       "<p>7032 rows × 4 columns</p>\n",
       "</div>"
      ],
      "text/plain": [
       "        tenure  SeniorCitizen  MonthlyCharges  TotalCharges\n",
       "0     0.023682       0.000000        0.706908      0.706908\n",
       "1     0.017983       0.000000        0.030122      0.999384\n",
       "2     0.016552       0.000000        0.445662      0.895048\n",
       "3     0.024433       0.000000        0.022967      0.999438\n",
       "4     0.011952       0.000000        0.422512      0.906279\n",
       "...        ...            ...             ...           ...\n",
       "7027  0.012045       0.000000        0.042561      0.999021\n",
       "7028  0.009777       0.000000        0.014014      0.999854\n",
       "7029  0.031620       0.000000        0.085085      0.995872\n",
       "7030  0.012677       0.003169        0.235798      0.971714\n",
       "7031  0.009641       0.000000        0.015433      0.999834\n",
       "\n",
       "[7032 rows x 4 columns]"
      ]
     },
     "execution_count": 11,
     "metadata": {},
     "output_type": "execute_result"
    }
   ],
   "source": [
    "transformer = Normalizer().fit(independent_features)  # fit does nothing.\n",
    "ind_feat_trans = transformer.transform(independent_features)\n",
    "ind_feat_trans_df = pd.DataFrame(ind_feat_trans)\n",
    "ind_feat_trans_df.columns = list(independent_features.columns)\n",
    "ind_feat_trans_df"
   ]
  },
  {
   "cell_type": "code",
   "execution_count": 39,
   "metadata": {},
   "outputs": [
    {
     "data": {
      "text/plain": [
       "'Max: '"
      ]
     },
     "metadata": {},
     "output_type": "display_data"
    },
    {
     "data": {
      "text/plain": [
       "tenure            0.070634\n",
       "SeniorCitizen     0.036307\n",
       "MonthlyCharges    0.707090\n",
       "TotalCharges      0.999874\n",
       "dtype: float64"
      ]
     },
     "metadata": {},
     "output_type": "display_data"
    },
    {
     "data": {
      "text/plain": [
       "'Min: '"
      ]
     },
     "metadata": {},
     "output_type": "display_data"
    },
    {
     "data": {
      "text/plain": [
       "tenure            0.006902\n",
       "SeniorCitizen     0.000000\n",
       "MonthlyCharges    0.012589\n",
       "TotalCharges      0.706174\n",
       "dtype: float64"
      ]
     },
     "metadata": {},
     "output_type": "display_data"
    }
   ],
   "source": [
    "display(\"Max: \",ind_feat_trans_df.max())\n",
    "display(\"Min: \", ind_feat_trans_df.min())\n",
    "\n",
    "# As we can see, the ranges our now more similar."
   ]
  },
  {
   "cell_type": "code",
   "execution_count": 41,
   "metadata": {},
   "outputs": [],
   "source": [
    "## Helper functions\n",
    "\n",
    "def calculate_display_results(model,predic,X_test,y_test):\n",
    "    # accuracy_score\n",
    "    # fitted X_test data vs. y_test data (actual answer)\n",
    "    accuracy =   round(accuracy_score(predic,y_test),2)\n",
    "    display(f'Accuracy score: {accuracy:.2f}')\n",
    "    # Kappa score\n",
    "    kappa =  round(cohen_kappa_score(y_test,predic),2)\n",
    "    display(f'Kappa:{kappa:.2f}')\n",
    "    recall = round(recall_score(y_test, predic, average='binary'),2)\n",
    "    display(f'Recall:{recall:.2f}')\n",
    "    # classification report\n",
    "    print('Classification report')\n",
    "    classif_report = classification_report(predic,y_test)\n",
    "    print(classif_report) \n",
    "    # compare predictions to actual answers\n",
    "    display('Confusion matrix')\n",
    "    conf_mat = confusion_matrix(predic,y_test).T\n",
    "    # visualize confusion matrix \n",
    "    ax = plot_confusion_matrix(model,X_test, y_test)\n",
    "    plt.show()  \n",
    "    \n",
    "    return accuracy, kappa, recall, conf_mat,classif_report\n",
    "\n",
    "def append_to_results(accuracy, kappa, recall, conf_mat,classif_report):\n",
    "    infos_from_model =[]\n",
    "    infos_from_model.append(accuracy)\n",
    "    infos_from_model.append(kappa)\n",
    "    infos_from_model.append(recall)\n",
    "    infos_from_model.append(conf_mat)\n",
    "    infos_from_model.append(classif_report)\n",
    "    return infos_from_model\n",
    "\n",
    "results={}"
   ]
  },
  {
   "cell_type": "code",
   "execution_count": 40,
   "metadata": {},
   "outputs": [
    {
     "data": {
      "text/html": [
       "<div>\n",
       "<style scoped>\n",
       "    .dataframe tbody tr th:only-of-type {\n",
       "        vertical-align: middle;\n",
       "    }\n",
       "\n",
       "    .dataframe tbody tr th {\n",
       "        vertical-align: top;\n",
       "    }\n",
       "\n",
       "    .dataframe thead th {\n",
       "        text-align: right;\n",
       "    }\n",
       "</style>\n",
       "<table border=\"1\" class=\"dataframe\">\n",
       "  <thead>\n",
       "    <tr style=\"text-align: right;\">\n",
       "      <th></th>\n",
       "      <th>index</th>\n",
       "      <th>Churn</th>\n",
       "    </tr>\n",
       "  </thead>\n",
       "  <tbody>\n",
       "    <tr>\n",
       "      <th>0</th>\n",
       "      <td>0</td>\n",
       "      <td>No</td>\n",
       "    </tr>\n",
       "    <tr>\n",
       "      <th>1</th>\n",
       "      <td>1</td>\n",
       "      <td>No</td>\n",
       "    </tr>\n",
       "    <tr>\n",
       "      <th>2</th>\n",
       "      <td>2</td>\n",
       "      <td>Yes</td>\n",
       "    </tr>\n",
       "    <tr>\n",
       "      <th>3</th>\n",
       "      <td>3</td>\n",
       "      <td>No</td>\n",
       "    </tr>\n",
       "    <tr>\n",
       "      <th>4</th>\n",
       "      <td>4</td>\n",
       "      <td>Yes</td>\n",
       "    </tr>\n",
       "  </tbody>\n",
       "</table>\n",
       "</div>"
      ],
      "text/plain": [
       "   index Churn\n",
       "0      0    No\n",
       "1      1    No\n",
       "2      2   Yes\n",
       "3      3    No\n",
       "4      4   Yes"
      ]
     },
     "metadata": {},
     "output_type": "display_data"
    },
    {
     "data": {
      "text/plain": [
       "0    5163\n",
       "1    1869\n",
       "Name: Churn, dtype: int64"
      ]
     },
     "metadata": {},
     "output_type": "display_data"
    }
   ],
   "source": [
    "# X-y split\n",
    "X = ind_feat_trans_df.copy().reset_index()\n",
    "y = churnData[['Churn']].reset_index()\n",
    "display(y.head())\n",
    "y = y['Churn'].map({'Yes':1, 'No':0})\n",
    "display(y.value_counts())\n"
   ]
  },
  {
   "cell_type": "code",
   "execution_count": 14,
   "metadata": {},
   "outputs": [],
   "source": [
    "# train-test split\n",
    "X_train, X_test, y_train, y_test = train_test_split(X, y, test_size=0.2, random_state=42)"
   ]
  },
  {
   "cell_type": "code",
   "execution_count": 15,
   "metadata": {},
   "outputs": [],
   "source": [
    "log_reg = LogisticRegression(random_state=42,  solver='lbfgs', max_iter=500, multi_class='ovr').fit(X_train, y_train)\n",
    "predic = log_reg.predict(X_test)"
   ]
  },
  {
   "cell_type": "code",
   "execution_count": 17,
   "metadata": {},
   "outputs": [
    {
     "data": {
      "text/plain": [
       "'Accuracy score: 0.76'"
      ]
     },
     "metadata": {},
     "output_type": "display_data"
    },
    {
     "data": {
      "text/plain": [
       "'Kappa:0.22'"
      ]
     },
     "metadata": {},
     "output_type": "display_data"
    },
    {
     "data": {
      "text/plain": [
       "'Recall:0.23'"
      ]
     },
     "metadata": {},
     "output_type": "display_data"
    },
    {
     "name": "stdout",
     "output_type": "stream",
     "text": [
      "Classification report\n",
      "              precision    recall  f1-score   support\n",
      "\n",
      "           0       0.95      0.77      0.85      1264\n",
      "           1       0.23      0.61      0.34       143\n",
      "\n",
      "    accuracy                           0.76      1407\n",
      "   macro avg       0.59      0.69      0.59      1407\n",
      "weighted avg       0.87      0.76      0.80      1407\n",
      "\n"
     ]
    },
    {
     "data": {
      "text/plain": [
       "'Confusion matrix'"
      ]
     },
     "metadata": {},
     "output_type": "display_data"
    },
    {
     "data": {
      "image/png": "[encoded data removed]",
      "text/plain": [
       "<Figure size 432x288 with 2 Axes>"
      ]
     },
     "metadata": {
      "needs_background": "light"
     },
     "output_type": "display_data"
    }
   ],
   "source": [
    "# Model results with class imbalance\n",
    "accuracy, kappa, recall, conf_mat,classif_report = calculate_display_results(log_reg,predic,X_test,y_test)\n",
    "\n",
    "# Add results to result dictionary\n",
    "inf_from_model = append_to_results(accuracy, kappa, recall, conf_mat,classif_report)\n",
    "\n",
    "results['log_reg']= inf_from_model\n"
   ]
  },
  {
   "cell_type": "code",
   "execution_count": 18,
   "metadata": {},
   "outputs": [
    {
     "data": {
      "text/plain": [
       "0    5163\n",
       "1    1869\n",
       "Name: Churn, dtype: int64"
      ]
     },
     "execution_count": 18,
     "metadata": {},
     "output_type": "execute_result"
    }
   ],
   "source": [
    "y.value_counts()"
   ]
  },
  {
   "cell_type": "markdown",
   "metadata": {},
   "source": [
    "# Managing imbalance in the dataset\n",
    "\n",
    "    Check for the imbalance.\n",
    "    Use the resampling strategies used in class for upsampling and downsampling to create a balance between the two classes.\n",
    "    Each time fit the model and see how the accuracy of the model is."
   ]
  },
  {
   "cell_type": "markdown",
   "metadata": {},
   "source": [
    "## Upsampling copies of existing samples"
   ]
  },
  {
   "cell_type": "code",
   "execution_count": 42,
   "metadata": {},
   "outputs": [
    {
     "name": "stdout",
     "output_type": "stream",
     "text": [
      "(5163, 6)\n",
      "1    5163\n",
      "0    5163\n",
      "Name: Churn, dtype: int64\n"
     ]
    }
   ],
   "source": [
    "data = X.copy()\n",
    "data['Churn']=y\n",
    "\n",
    "category_0 = data[data['Churn'] == 0]\n",
    "category_1 = data[data['Churn'] == 1]\n",
    "\n",
    "# Upsampling \n",
    "# As we are going to repeat observations, the random samples can be picked more then once,\n",
    "# threfore we need to use the keyword: replace=True\n",
    "category_1 = category_1.sample(len(category_0), replace=True) \n",
    "#  to ensure we can repeat the minority class so that \n",
    "#  it can become the same amount of samples as the majority class\n",
    "print(category_1.shape)\n",
    "\n",
    "data = pd.concat([category_0, category_1], axis=0)\n",
    "#shuffling the data\n",
    "data = data.sample(frac=1)\n",
    "print(data['Churn'].value_counts())\n",
    "\n",
    "y_us = data['Churn']\n",
    "X_us = data.drop(['Churn','index'],axis = 1)\n",
    "\n"
   ]
  },
  {
   "cell_type": "code",
   "execution_count": 43,
   "metadata": {},
   "outputs": [
    {
     "data": {
      "text/html": [
       "<div>\n",
       "<style scoped>\n",
       "    .dataframe tbody tr th:only-of-type {\n",
       "        vertical-align: middle;\n",
       "    }\n",
       "\n",
       "    .dataframe tbody tr th {\n",
       "        vertical-align: top;\n",
       "    }\n",
       "\n",
       "    .dataframe thead th {\n",
       "        text-align: right;\n",
       "    }\n",
       "</style>\n",
       "<table border=\"1\" class=\"dataframe\">\n",
       "  <thead>\n",
       "    <tr style=\"text-align: right;\">\n",
       "      <th></th>\n",
       "      <th>tenure</th>\n",
       "      <th>SeniorCitizen</th>\n",
       "      <th>MonthlyCharges</th>\n",
       "      <th>TotalCharges</th>\n",
       "    </tr>\n",
       "  </thead>\n",
       "  <tbody>\n",
       "    <tr>\n",
       "      <th>0</th>\n",
       "      <td>0.011781</td>\n",
       "      <td>0.000000</td>\n",
       "      <td>0.067703</td>\n",
       "      <td>0.997636</td>\n",
       "    </tr>\n",
       "    <tr>\n",
       "      <th>1</th>\n",
       "      <td>0.021609</td>\n",
       "      <td>0.000000</td>\n",
       "      <td>0.176292</td>\n",
       "      <td>0.984101</td>\n",
       "    </tr>\n",
       "    <tr>\n",
       "      <th>2</th>\n",
       "      <td>0.049147</td>\n",
       "      <td>0.000000</td>\n",
       "      <td>0.336656</td>\n",
       "      <td>0.940344</td>\n",
       "    </tr>\n",
       "    <tr>\n",
       "      <th>3</th>\n",
       "      <td>0.051145</td>\n",
       "      <td>0.000000</td>\n",
       "      <td>0.080979</td>\n",
       "      <td>0.995403</td>\n",
       "    </tr>\n",
       "    <tr>\n",
       "      <th>4</th>\n",
       "      <td>0.048274</td>\n",
       "      <td>0.000000</td>\n",
       "      <td>0.240890</td>\n",
       "      <td>0.969351</td>\n",
       "    </tr>\n",
       "    <tr>\n",
       "      <th>...</th>\n",
       "      <td>...</td>\n",
       "      <td>...</td>\n",
       "      <td>...</td>\n",
       "      <td>...</td>\n",
       "    </tr>\n",
       "    <tr>\n",
       "      <th>10321</th>\n",
       "      <td>0.012098</td>\n",
       "      <td>0.000000</td>\n",
       "      <td>0.015935</td>\n",
       "      <td>0.999800</td>\n",
       "    </tr>\n",
       "    <tr>\n",
       "      <th>10322</th>\n",
       "      <td>0.009813</td>\n",
       "      <td>0.004906</td>\n",
       "      <td>0.466608</td>\n",
       "      <td>0.884396</td>\n",
       "    </tr>\n",
       "    <tr>\n",
       "      <th>10323</th>\n",
       "      <td>0.011762</td>\n",
       "      <td>0.000000</td>\n",
       "      <td>0.014526</td>\n",
       "      <td>0.999825</td>\n",
       "    </tr>\n",
       "    <tr>\n",
       "      <th>10324</th>\n",
       "      <td>0.014667</td>\n",
       "      <td>0.000000</td>\n",
       "      <td>0.046334</td>\n",
       "      <td>0.998818</td>\n",
       "    </tr>\n",
       "    <tr>\n",
       "      <th>10325</th>\n",
       "      <td>0.033653</td>\n",
       "      <td>0.000000</td>\n",
       "      <td>0.706706</td>\n",
       "      <td>0.706706</td>\n",
       "    </tr>\n",
       "  </tbody>\n",
       "</table>\n",
       "<p>10326 rows × 4 columns</p>\n",
       "</div>"
      ],
      "text/plain": [
       "         tenure  SeniorCitizen  MonthlyCharges  TotalCharges\n",
       "0      0.011781       0.000000        0.067703      0.997636\n",
       "1      0.021609       0.000000        0.176292      0.984101\n",
       "2      0.049147       0.000000        0.336656      0.940344\n",
       "3      0.051145       0.000000        0.080979      0.995403\n",
       "4      0.048274       0.000000        0.240890      0.969351\n",
       "...         ...            ...             ...           ...\n",
       "10321  0.012098       0.000000        0.015935      0.999800\n",
       "10322  0.009813       0.004906        0.466608      0.884396\n",
       "10323  0.011762       0.000000        0.014526      0.999825\n",
       "10324  0.014667       0.000000        0.046334      0.998818\n",
       "10325  0.033653       0.000000        0.706706      0.706706\n",
       "\n",
       "[10326 rows x 4 columns]"
      ]
     },
     "execution_count": 43,
     "metadata": {},
     "output_type": "execute_result"
    }
   ],
   "source": [
    "\n",
    "transformer = Normalizer().fit(X_us)\n",
    "X_us_trans = transformer.transform(X_us)\n",
    "X_us_trans_df = pd.DataFrame(X_us_trans)\n",
    "X_us_trans_df.columns = list(X_us.columns)\n",
    "X_us_trans_df\n"
   ]
  },
  {
   "cell_type": "code",
   "execution_count": 49,
   "metadata": {},
   "outputs": [],
   "source": [
    "# train-test split\n",
    "X_train, X_test, y_train, y_test = train_test_split(X_us_trans_df, y_us, test_size=0.2, random_state=42)"
   ]
  },
  {
   "cell_type": "code",
   "execution_count": 50,
   "metadata": {},
   "outputs": [],
   "source": [
    "log_reg_us = LogisticRegression(random_state=42,  solver='lbfgs', max_iter=500, multi_class='ovr').fit(X_train, y_train)\n",
    "predic_us = log_reg_us.predict(X_test)"
   ]
  },
  {
   "cell_type": "code",
   "execution_count": 51,
   "metadata": {},
   "outputs": [
    {
     "data": {
      "text/plain": [
       "'Accuracy score: 0.67'"
      ]
     },
     "metadata": {},
     "output_type": "display_data"
    },
    {
     "data": {
      "text/plain": [
       "'Kappa:0.34'"
      ]
     },
     "metadata": {},
     "output_type": "display_data"
    },
    {
     "data": {
      "text/plain": [
       "'Recall:0.49'"
      ]
     },
     "metadata": {},
     "output_type": "display_data"
    },
    {
     "name": "stdout",
     "output_type": "stream",
     "text": [
      "Classification report\n",
      "              precision    recall  f1-score   support\n",
      "\n",
      "           0       0.85      0.63      0.72      1409\n",
      "           1       0.49      0.76      0.59       657\n",
      "\n",
      "    accuracy                           0.67      2066\n",
      "   macro avg       0.67      0.69      0.66      2066\n",
      "weighted avg       0.73      0.67      0.68      2066\n",
      "\n"
     ]
    },
    {
     "data": {
      "text/plain": [
       "'Confusion matrix'"
      ]
     },
     "metadata": {},
     "output_type": "display_data"
    },
    {
     "data": {
      "image/png": "[encoded data removed]",
      "text/plain": [
       "<Figure size 432x288 with 2 Axes>"
      ]
     },
     "metadata": {
      "needs_background": "light"
     },
     "output_type": "display_data"
    }
   ],
   "source": [
    "# Model results with class imbalance\n",
    "accuracy, kappa, recall, conf_mat,classif_report = calculate_display_results(log_reg_us,predic_us,X_test,y_test)\n",
    "\n",
    "# Add results to result dictionary\n",
    "inf_from_model = append_to_results(accuracy, kappa, recall, conf_mat,classif_report)\n",
    "\n",
    "results['log_reg_us']= inf_from_model"
   ]
  },
  {
   "cell_type": "markdown",
   "metadata": {},
   "source": [
    "## Downsampling"
   ]
  },
  {
   "cell_type": "code",
   "execution_count": 24,
   "metadata": {},
   "outputs": [
    {
     "name": "stdout",
     "output_type": "stream",
     "text": [
      "(1869, 6)\n",
      "(1869, 6)\n"
     ]
    }
   ],
   "source": [
    "data = X.copy()\n",
    "data['Churn']=y\n",
    "\n",
    "category_0 = data[data['Churn'] == 0]\n",
    "category_1 = data[data['Churn'] == 1]\n",
    "\n",
    "# We pick a random sample of rows from of observations belonging to \"category_0\"\n",
    "# in the same amount of observations belonging to \"category_1\"\n",
    "category_0 = category_0.sample(len(category_1)) #random sample of category 0 - same length as category_1\n",
    "print(category_0.shape)\n",
    "print(category_1.shape)\n",
    "\n",
    "data = pd.concat([category_0, category_1], axis=0)\n",
    "#shuffling the data\n",
    "data = data.sample(frac=1) # shuffling the data so that cat0 and cat1 samples are mixed\n",
    "data['Churn'].value_counts()\n",
    "\n",
    "y_ds = data['Churn']\n",
    "X_ds = data.drop(['Churn','index'],axis = 1)\n",
    "\n"
   ]
  },
  {
   "cell_type": "code",
   "execution_count": 25,
   "metadata": {},
   "outputs": [
    {
     "data": {
      "text/html": [
       "<div>\n",
       "<style scoped>\n",
       "    .dataframe tbody tr th:only-of-type {\n",
       "        vertical-align: middle;\n",
       "    }\n",
       "\n",
       "    .dataframe tbody tr th {\n",
       "        vertical-align: top;\n",
       "    }\n",
       "\n",
       "    .dataframe thead th {\n",
       "        text-align: right;\n",
       "    }\n",
       "</style>\n",
       "<table border=\"1\" class=\"dataframe\">\n",
       "  <thead>\n",
       "    <tr style=\"text-align: right;\">\n",
       "      <th></th>\n",
       "      <th>tenure</th>\n",
       "      <th>SeniorCitizen</th>\n",
       "      <th>MonthlyCharges</th>\n",
       "      <th>TotalCharges</th>\n",
       "    </tr>\n",
       "  </thead>\n",
       "  <tbody>\n",
       "    <tr>\n",
       "      <th>0</th>\n",
       "      <td>0.020056</td>\n",
       "      <td>0.00000</td>\n",
       "      <td>0.706965</td>\n",
       "      <td>0.706965</td>\n",
       "    </tr>\n",
       "    <tr>\n",
       "      <th>1</th>\n",
       "      <td>0.007936</td>\n",
       "      <td>0.00000</td>\n",
       "      <td>0.707085</td>\n",
       "      <td>0.707085</td>\n",
       "    </tr>\n",
       "    <tr>\n",
       "      <th>2</th>\n",
       "      <td>0.009388</td>\n",
       "      <td>0.00000</td>\n",
       "      <td>0.014490</td>\n",
       "      <td>0.999851</td>\n",
       "    </tr>\n",
       "    <tr>\n",
       "      <th>3</th>\n",
       "      <td>0.010195</td>\n",
       "      <td>0.00000</td>\n",
       "      <td>0.014166</td>\n",
       "      <td>0.999848</td>\n",
       "    </tr>\n",
       "    <tr>\n",
       "      <th>4</th>\n",
       "      <td>0.009384</td>\n",
       "      <td>0.00000</td>\n",
       "      <td>0.707076</td>\n",
       "      <td>0.707076</td>\n",
       "    </tr>\n",
       "    <tr>\n",
       "      <th>...</th>\n",
       "      <td>...</td>\n",
       "      <td>...</td>\n",
       "      <td>...</td>\n",
       "      <td>...</td>\n",
       "    </tr>\n",
       "    <tr>\n",
       "      <th>3733</th>\n",
       "      <td>0.017975</td>\n",
       "      <td>0.00000</td>\n",
       "      <td>0.023556</td>\n",
       "      <td>0.999561</td>\n",
       "    </tr>\n",
       "    <tr>\n",
       "      <th>3734</th>\n",
       "      <td>0.041787</td>\n",
       "      <td>0.00000</td>\n",
       "      <td>0.020810</td>\n",
       "      <td>0.998910</td>\n",
       "    </tr>\n",
       "    <tr>\n",
       "      <th>3735</th>\n",
       "      <td>0.016566</td>\n",
       "      <td>0.00000</td>\n",
       "      <td>0.020829</td>\n",
       "      <td>0.999646</td>\n",
       "    </tr>\n",
       "    <tr>\n",
       "      <th>3736</th>\n",
       "      <td>0.034984</td>\n",
       "      <td>0.00000</td>\n",
       "      <td>0.706674</td>\n",
       "      <td>0.706674</td>\n",
       "    </tr>\n",
       "    <tr>\n",
       "      <th>3737</th>\n",
       "      <td>0.008655</td>\n",
       "      <td>0.00012</td>\n",
       "      <td>0.013806</td>\n",
       "      <td>0.999867</td>\n",
       "    </tr>\n",
       "  </tbody>\n",
       "</table>\n",
       "<p>3738 rows × 4 columns</p>\n",
       "</div>"
      ],
      "text/plain": [
       "        tenure  SeniorCitizen  MonthlyCharges  TotalCharges\n",
       "0     0.020056        0.00000        0.706965      0.706965\n",
       "1     0.007936        0.00000        0.707085      0.707085\n",
       "2     0.009388        0.00000        0.014490      0.999851\n",
       "3     0.010195        0.00000        0.014166      0.999848\n",
       "4     0.009384        0.00000        0.707076      0.707076\n",
       "...        ...            ...             ...           ...\n",
       "3733  0.017975        0.00000        0.023556      0.999561\n",
       "3734  0.041787        0.00000        0.020810      0.998910\n",
       "3735  0.016566        0.00000        0.020829      0.999646\n",
       "3736  0.034984        0.00000        0.706674      0.706674\n",
       "3737  0.008655        0.00012        0.013806      0.999867\n",
       "\n",
       "[3738 rows x 4 columns]"
      ]
     },
     "execution_count": 25,
     "metadata": {},
     "output_type": "execute_result"
    }
   ],
   "source": [
    "\n",
    "transformer = Normalizer().fit(X_ds)\n",
    "X_ds_trans = transformer.transform(X_ds)\n",
    "X_ds_trans_df = pd.DataFrame(X_ds_trans)\n",
    "X_ds_trans_df.columns = list(X_ds.columns)\n",
    "X_ds_trans_df\n"
   ]
  },
  {
   "cell_type": "code",
   "execution_count": 53,
   "metadata": {},
   "outputs": [],
   "source": [
    "# train-test split\n",
    "X_train, X_test, y_train, y_test = train_test_split(X_ds_trans_df, y_ds, test_size=0.2, random_state=42)"
   ]
  },
  {
   "cell_type": "code",
   "execution_count": 54,
   "metadata": {},
   "outputs": [],
   "source": [
    "log_reg_ds = LogisticRegression(random_state=42,  solver='lbfgs', max_iter=500, multi_class='ovr').fit(X_train, y_train)\n",
    "predic_ds = log_reg_ds.predict(X_test)"
   ]
  },
  {
   "cell_type": "code",
   "execution_count": 55,
   "metadata": {},
   "outputs": [
    {
     "data": {
      "text/plain": [
       "'Accuracy score: 0.67'"
      ]
     },
     "metadata": {},
     "output_type": "display_data"
    },
    {
     "data": {
      "text/plain": [
       "'Kappa:0.34'"
      ]
     },
     "metadata": {},
     "output_type": "display_data"
    },
    {
     "data": {
      "text/plain": [
       "'Recall:0.50'"
      ]
     },
     "metadata": {},
     "output_type": "display_data"
    },
    {
     "name": "stdout",
     "output_type": "stream",
     "text": [
      "Classification report\n",
      "              precision    recall  f1-score   support\n",
      "\n",
      "           0       0.83      0.65      0.73       503\n",
      "           1       0.50      0.73      0.59       245\n",
      "\n",
      "    accuracy                           0.67       748\n",
      "   macro avg       0.67      0.69      0.66       748\n",
      "weighted avg       0.72      0.67      0.68       748\n",
      "\n"
     ]
    },
    {
     "data": {
      "text/plain": [
       "'Confusion matrix'"
      ]
     },
     "metadata": {},
     "output_type": "display_data"
    },
    {
     "data": {
      "image/png": "[encoded data removed]",
      "text/plain": [
       "<Figure size 432x288 with 2 Axes>"
      ]
     },
     "metadata": {
      "needs_background": "light"
     },
     "output_type": "display_data"
    }
   ],
   "source": [
    "# Model results with class imbalance\n",
    "accuracy, kappa, recall, conf_mat,classif_report = calculate_display_results(log_reg_ds,predic_ds,X_test,y_test)\n",
    "\n",
    "# Add results to result dictionary\n",
    "inf_from_model = append_to_results(accuracy, kappa, recall, conf_mat,classif_report)\n",
    "\n",
    "results['log_reg_ds']= inf_from_model\n",
    "\n"
   ]
  },
  {
   "cell_type": "markdown",
   "metadata": {},
   "source": [
    "# Lab | Cross Validation\n",
    "\n",
    "For this lab, we will build a model on customer churn binary classification problem. You will be using files_for_lab/Customer-Churn.csv file.\n",
    "Instructions\n",
    "\n",
    "    Apply SMOTE for upsampling the data\n",
    "        Use logistic regression to fit the model and compute the accuracy of the model.\n",
    "        Use decision tree classifier to fit the model and compute the accuracy of the model.\n",
    "        Compare the accuracies of the two models.\n",
    "\n",
    "    Apply TomekLinks for downsampling\n",
    "        It is important to remember that it does not make the two classes equal but only removes the points from the majority class that are close to other points in minority class.\n",
    "        Use logistic regression to fit the model and compute the accuracy of the model.\n",
    "        Use decision tree classifier to fit the model and compute the accuracy of the model.\n",
    "        Compare the accuracies of the two models.\n",
    "        You can also apply this algorithm one more time and check the how the imbalance in the two classes changed from the last time.\n"
   ]
  },
  {
   "cell_type": "markdown",
   "metadata": {},
   "source": [
    "## SMOTE - upsampling random samples"
   ]
  },
  {
   "cell_type": "code",
   "execution_count": 69,
   "metadata": {},
   "outputs": [
    {
     "data": {
      "text/plain": [
       "1    5163\n",
       "0    5163\n",
       "Name: Churn, dtype: int64"
      ]
     },
     "execution_count": 69,
     "metadata": {},
     "output_type": "execute_result"
    }
   ],
   "source": [
    "smote = SMOTE()\n",
    "X_sm, y_sm = smote.fit_sample(X, y)\n",
    "\n",
    "y_sm.value_counts()"
   ]
  },
  {
   "cell_type": "code",
   "execution_count": 70,
   "metadata": {},
   "outputs": [],
   "source": [
    "# train-test split\n",
    "X_train, X_test, y_train, y_test = train_test_split(X_sm, y_sm, test_size=0.2, random_state=42)"
   ]
  },
  {
   "cell_type": "code",
   "execution_count": 71,
   "metadata": {},
   "outputs": [],
   "source": [
    "log_reg_sm = LogisticRegression(random_state=42,  solver='lbfgs', max_iter=500, multi_class='ovr').fit(X_train, y_train)\n",
    "predic_sm = log_reg_sm.predict(X_test)"
   ]
  },
  {
   "cell_type": "code",
   "execution_count": 72,
   "metadata": {},
   "outputs": [
    {
     "data": {
      "text/plain": [
       "'Accuracy score: 0.67'"
      ]
     },
     "metadata": {},
     "output_type": "display_data"
    },
    {
     "data": {
      "text/plain": [
       "'Kappa:0.34'"
      ]
     },
     "metadata": {},
     "output_type": "display_data"
    },
    {
     "data": {
      "text/plain": [
       "'Recall:0.48'"
      ]
     },
     "metadata": {},
     "output_type": "display_data"
    },
    {
     "name": "stdout",
     "output_type": "stream",
     "text": [
      "Classification report\n",
      "              precision    recall  f1-score   support\n",
      "\n",
      "           0       0.87      0.63      0.73      1438\n",
      "           1       0.48      0.78      0.59       628\n",
      "\n",
      "    accuracy                           0.67      2066\n",
      "   macro avg       0.67      0.70      0.66      2066\n",
      "weighted avg       0.75      0.67      0.69      2066\n",
      "\n"
     ]
    },
    {
     "data": {
      "text/plain": [
       "'Confusion matrix'"
      ]
     },
     "metadata": {},
     "output_type": "display_data"
    },
    {
     "data": {
      "image/png": "[encoded data removed]",
      "text/plain": [
       "<Figure size 432x288 with 2 Axes>"
      ]
     },
     "metadata": {
      "needs_background": "light"
     },
     "output_type": "display_data"
    }
   ],
   "source": [
    "## Model results with class imbalance\n",
    "accuracy, kappa, recall, conf_mat,classif_report = calculate_display_results(log_reg_sm,predic_sm,X_test,y_test)\n",
    "\n",
    "# Add results to result dictionary\n",
    "inf_from_model = append_to_results(accuracy, kappa, recall, conf_mat,classif_report)\n",
    "\n",
    "results['log_reg_sm']= inf_from_model\n",
    "\n"
   ]
  },
  {
   "cell_type": "markdown",
   "metadata": {},
   "source": [
    "# Tomek Links"
   ]
  },
  {
   "cell_type": "code",
   "execution_count": 65,
   "metadata": {},
   "outputs": [
    {
     "data": {
      "text/plain": [
       "0    4511\n",
       "1    1869\n",
       "Name: Churn, dtype: int64"
      ]
     },
     "execution_count": 65,
     "metadata": {},
     "output_type": "execute_result"
    }
   ],
   "source": [
    "tomekl = TomekLinks()\n",
    "X_tl, y_tl = tomekl.fit_sample(X, y)\n",
    "\n",
    "y_tl.value_counts()\n"
   ]
  },
  {
   "cell_type": "code",
   "execution_count": 66,
   "metadata": {},
   "outputs": [],
   "source": [
    "# train-test split\n",
    "X_train, X_test, y_train, y_test = train_test_split(X_tl, y_tl, test_size=0.2, random_state=42)"
   ]
  },
  {
   "cell_type": "code",
   "execution_count": 67,
   "metadata": {},
   "outputs": [],
   "source": [
    "log_reg_tl = LogisticRegression(random_state=42,  solver='lbfgs', max_iter=500, multi_class='ovr').fit(X_train, y_train)\n",
    "predic_tl = log_reg_tl.predict(X_test)"
   ]
  },
  {
   "cell_type": "code",
   "execution_count": 68,
   "metadata": {},
   "outputs": [
    {
     "data": {
      "text/plain": [
       "'Accuracy score: 0.74'"
      ]
     },
     "metadata": {},
     "output_type": "display_data"
    },
    {
     "data": {
      "text/plain": [
       "'Kappa:0.22'"
      ]
     },
     "metadata": {},
     "output_type": "display_data"
    },
    {
     "data": {
      "text/plain": [
       "'Recall:0.24'"
      ]
     },
     "metadata": {},
     "output_type": "display_data"
    },
    {
     "name": "stdout",
     "output_type": "stream",
     "text": [
      "Classification report\n",
      "              precision    recall  f1-score   support\n",
      "\n",
      "           0       0.94      0.76      0.84      1131\n",
      "           1       0.24      0.61      0.35       145\n",
      "\n",
      "    accuracy                           0.74      1276\n",
      "   macro avg       0.59      0.69      0.59      1276\n",
      "weighted avg       0.86      0.74      0.78      1276\n",
      "\n"
     ]
    },
    {
     "data": {
      "text/plain": [
       "'Confusion matrix'"
      ]
     },
     "metadata": {},
     "output_type": "display_data"
    },
    {
     "data": {
      "image/png": "[encoded data removed]",
      "text/plain": [
       "<Figure size 432x288 with 2 Axes>"
      ]
     },
     "metadata": {
      "needs_background": "light"
     },
     "output_type": "display_data"
    }
   ],
   "source": [
    "## Model results with class imbalance\n",
    "accuracy, kappa, recall, conf_mat,classif_report = calculate_display_results(log_reg_tl,predic_tl,X_test,y_test)\n",
    "\n",
    "# Add results to result dictionary\n",
    "inf_from_model = append_to_results(accuracy, kappa, recall, conf_mat,classif_report)\n",
    "\n",
    "results['log_reg_tl']= inf_from_model\n",
    "\n"
   ]
  },
  {
   "cell_type": "code",
   "execution_count": 74,
   "metadata": {},
   "outputs": [],
   "source": [
    "#Result comparison\n",
    "\n",
    "results_df = pd.DataFrame()\n",
    "results_df['parameters']=['Accuracy','Kappa','Recall']\n",
    "for key, value in results.items() :\n",
    "    results_df[key]=[value[0],value[1],value[2]]\n",
    "results_df.set_index('parameters',inplace=True)\n",
    "results_df=results_df.T\n",
    "results_df.sort_values(by =['Accuracy', 'Kappa'],ascending=False,inplace=True)"
   ]
  },
  {
   "cell_type": "code",
   "execution_count": 75,
   "metadata": {},
   "outputs": [
    {
     "data": {
      "image/png": "[encoded data removed]",
      "text/plain": [
       "<Figure size 432x288 with 1 Axes>"
      ]
     },
     "metadata": {
      "needs_background": "light"
     },
     "output_type": "display_data"
    },
    {
     "data": {
      "text/plain": [
       "<Figure size 1440x720 with 0 Axes>"
      ]
     },
     "metadata": {},
     "output_type": "display_data"
    }
   ],
   "source": [
    "plt.plot([1])\n",
    "\n",
    "ax = sns.scatterplot(data=results_df)\n",
    "plt.xticks(rotation=45)\n",
    "plt.grid()\n",
    "plt.figure(figsize=(20, 10))\n",
    "plt.show()"
   ]
  }
 ],
 "metadata": {
  "kernelspec": {
   "display_name": "Python 3",
   "language": "python",
   "name": "python3"
  },
  "language_info": {
   "codemirror_mode": {
    "name": "ipython",
    "version": 3
   },
   "file_extension": ".py",
   "mimetype": "text/x-python",
   "name": "python",
   "nbconvert_exporter": "python",
   "pygments_lexer": "ipython3",
   "version": "3.7.4"
  }
 },
 "nbformat": 4,
 "nbformat_minor": 2
}
